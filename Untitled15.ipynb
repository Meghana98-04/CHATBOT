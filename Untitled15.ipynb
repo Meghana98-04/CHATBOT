{
  "nbformat": 4,
  "nbformat_minor": 0,
  "metadata": {
    "colab": {
      "provenance": []
    },
    "kernelspec": {
      "name": "python3",
      "display_name": "Python 3"
    },
    "language_info": {
      "name": "python"
    }
  },
  "cells": [
    {
      "cell_type": "code",
      "execution_count": 3,
      "metadata": {
        "colab": {
          "base_uri": "https://localhost:8080/"
        },
        "id": "sTHBUsWdYilg",
        "outputId": "7aabdcc9-8e3a-47a4-8cc7-f7289c382f1e"
      },
      "outputs": [
        {
          "output_type": "stream",
          "name": "stdout",
          "text": [
            "✅ Knowledge base updated successfully!\n",
            "Documents now in DB: 2\n"
          ]
        }
      ],
      "source": [
        "# ✅ Task 1: Dynamic Knowledge Base Updater\n",
        "!pip install chromadb sentence-transformers -q\n",
        "\n",
        "import zipfile, os\n",
        "from sentence_transformers import SentenceTransformer\n",
        "import chromadb\n",
        "from chromadb.config import Settings\n",
        "\n",
        "# Unzip uploaded file\n",
        "with zipfile.ZipFile(\"/content/GEN---AI-course-main.zip\", \"r\") as zip_ref:\n",
        "    zip_ref.extractall(\"/content/project_root\")\n",
        "\n",
        "# Initialize Chroma\n",
        "persist_dir = \"/content/chroma_db\"\n",
        "# Use the new client initialization method\n",
        "client = chromadb.PersistentClient(path=persist_dir)\n",
        "collection = client.get_or_create_collection(\"dynamic_knowledge\")\n",
        "\n",
        "# Simple embedding model\n",
        "model = SentenceTransformer(\"all-MiniLM-L6-v2\")\n",
        "\n",
        "# Simulate new information (you can replace with new file reading)\n",
        "new_docs = [\n",
        "    {\"id\": \"doc1\", \"text\": \"AI can learn continuously from new data sources.\", \"metadata\": {\"source\": \"demo\"}},\n",
        "    {\"id\": \"doc2\", \"text\": \"Vector databases help chatbots recall information efficiently.\", \"metadata\": {\"source\": \"demo\"}},\n",
        "]\n",
        "\n",
        "# Embed and update DB\n",
        "embeddings = model.encode([d[\"text\"] for d in new_docs])\n",
        "collection.upsert(\n",
        "    ids=[d[\"id\"] for d in new_docs],\n",
        "    documents=[d[\"text\"] for d in new_docs],\n",
        "    metadatas=[d[\"metadata\"] for d in new_docs],\n",
        "    embeddings=embeddings.tolist()\n",
        ")\n",
        "# No need to call client.persist() with PersistentClient\n",
        "# client.persist()\n",
        "\n",
        "print(\"✅ Knowledge base updated successfully!\")\n",
        "print(\"Documents now in DB:\", len(collection.get()['ids']))"
      ]
    },
    {
      "cell_type": "code",
      "source": [],
      "metadata": {
        "id": "DP0VNU0sY0Fn"
      },
      "execution_count": null,
      "outputs": []
    },
    {
      "cell_type": "code",
      "metadata": {
        "colab": {
          "base_uri": "https://localhost:8080/"
        },
        "id": "9643f16d",
        "outputId": "78a7f0c8-d94b-4897-8772-eaa28963206e"
      },
      "source": [
        "# Simulate new information by creating a list of dictionaries\n",
        "new_information_feed = [\n",
        "    {\"id\": \"doc3\", \"text\": \"Large Language Models are powerful for text generation.\", \"metadata\": {\"source\": \"simulated_feed\"}},\n",
        "    {\"id\": \"doc4\", \"text\": \"Retrieval-Augmented Generation combines LLMs with external knowledge.\", \"metadata\": {\"source\": \"simulated_feed\"}},\n",
        "    {\"id\": \"doc5\", \"text\": \"Vector databases are essential for efficient RAG implementations.\", \"metadata\": {\"source\": \"simulated_feed\"}}\n",
        "]\n",
        "\n",
        "print(\"Simulated new information feed created.\")"
      ],
      "execution_count": 4,
      "outputs": [
        {
          "output_type": "stream",
          "name": "stdout",
          "text": [
            "Simulated new information feed created.\n"
          ]
        }
      ]
    },
    {
      "cell_type": "code",
      "metadata": {
        "colab": {
          "base_uri": "https://localhost:8080/"
        },
        "id": "25267287",
        "outputId": "ec260f25-70dc-4b5a-cc19-e95bd61c2039"
      },
      "source": [
        "def ingest_and_embed(documents):\n",
        "    \"\"\"\n",
        "    Processes a list of documents, generates embeddings, and adds/updates them in ChromaDB.\n",
        "\n",
        "    Args:\n",
        "        documents: A list of dictionaries, where each dictionary represents a document\n",
        "                   with 'id', 'text', and 'metadata' keys.\n",
        "    \"\"\"\n",
        "    for doc in documents:\n",
        "        doc_id = doc.get('id')\n",
        "        doc_text = doc.get('text')\n",
        "        doc_metadata = doc.get('metadata')\n",
        "\n",
        "        if not doc_id or not doc_text:\n",
        "            print(f\"Skipping document due to missing id or text: {doc}\")\n",
        "            continue\n",
        "\n",
        "        # Generate embedding\n",
        "        embedding = model.encode(doc_text).tolist()\n",
        "\n",
        "        # Upsert into ChromaDB\n",
        "        collection.upsert(\n",
        "            ids=[doc_id],\n",
        "            documents=[doc_text],\n",
        "            metadatas=[doc_metadata],\n",
        "            embeddings=[embedding]\n",
        "        )\n",
        "        print(f\"Upserted document with id: {doc_id}\")\n",
        "\n",
        "    print(\"Ingestion and embedding process complete.\")\n",
        "\n",
        "# Call the function with the simulated new information feed\n",
        "ingest_and_embed(new_information_feed)\n",
        "\n",
        "# Verify the number of documents in the collection\n",
        "print(\"Documents now in DB:\", len(collection.get()['ids']))"
      ],
      "execution_count": 5,
      "outputs": [
        {
          "output_type": "stream",
          "name": "stdout",
          "text": [
            "Upserted document with id: doc3\n",
            "Upserted document with id: doc4\n",
            "Upserted document with id: doc5\n",
            "Ingestion and embedding process complete.\n",
            "Documents now in DB: 5\n"
          ]
        }
      ]
    },
    {
      "cell_type": "code",
      "metadata": {
        "colab": {
          "base_uri": "https://localhost:8080/"
        },
        "id": "eb08877b",
        "outputId": "f152d0a4-19e9-43c6-fb29-23d58e513fbd"
      },
      "source": [
        "# 1. Real-world Periodic Update Mechanisms:\n",
        "print(\"1. Real-world Periodic Update Mechanisms:\")\n",
        "print(\"In a production environment, periodic updates to a knowledge base would typically be handled by automated scheduling systems.\")\n",
        "print(\"- **Cron Jobs (Linux/Unix):** Schedule scripts or commands to run at fixed times, dates, or intervals.\")\n",
        "print(\"- **Task Scheduler (Windows):** Similar to cron jobs, allows scheduling tasks to run automatically.\")\n",
        "print(\"- **Cloud Scheduler/Managed Services:** Cloud providers offer managed services (e.g., AWS CloudWatch Events/EventBridge, Google Cloud Scheduler, Azure Scheduler) that can trigger functions or tasks on a schedule.\")\n",
        "print(\"- **Orchestration Tools:** Tools like Apache Airflow, Luigi, or Dagster can manage complex workflows, including scheduled data ingestion pipelines.\")\n",
        "print(\"- **Message Queues/Event-Driven Systems:** New data arrivals can trigger ingestion processes via message queues (e.g., Kafka, RabbitMQ) or serverless functions (e.g., AWS Lambda, Google Cloud Functions) responding to events.\")\n",
        "print(\"\\nThese mechanisms ensure that the update process runs reliably and without manual intervention at defined intervals (e.g., daily, hourly, every few minutes).\")\n",
        "\n",
        "# 2. Limitations in Colab:\n",
        "print(\"\\n2. Limitations in Colab:\")\n",
        "print(\"Directly simulating a true periodic background process with persistent scheduling is not feasible within a standard Colab notebook session.\")\n",
        "print(\"- **Session Lifetime:** Colab sessions have limited lifetimes and are not designed for long-running background tasks.\")\n",
        "print(\"- **No Persistent Scheduler:** You cannot set up system-level cron jobs or persistent task schedules that continue after the notebook is closed or the session ends.\")\n",
        "print(\"- **Blocking Execution:** A simple Python loop to simulate periodicity within a single cell would block the notebook's execution and stop if the session times out or the user disconnects.\")\n",
        "print(\"\\nTherefore, any simulation in Colab will be a simplified demonstration, requiring the cell to be actively running.\")\n",
        "\n",
        "# 3. Simple Python Loop Simulation Outline:\n",
        "print(\"\\n3. Simple Python Loop Simulation Outline:\")\n",
        "print(\"We can simulate periodic updates using a basic Python loop combined with a time delay.\")\n",
        "print(\"```python\")\n",
        "print(\"# This is a conceptual outline, not runnable code in a single block for true backgrounding\")\n",
        "print(\"import time\")\n",
        "print(\"def simulate_periodic_update(interval_seconds=60):\")\n",
        "print(\"    while True:\")\n",
        "print(\"        print(f'Simulating update check at {time.ctime()}')\")\n",
        "print(\"        # In a real scenario, this would fetch NEW data\")\n",
        "print(\"        # For simulation, we might use a predefined list or load from a file\")\n",
        "print(\"        # Example: fetch_new_data_from_source()\")\n",
        "print(\"        new_data = [\")\n",
        "print(\"            # Simulate fetching new documents over time\")\n",
        "print(\"            # e.g., {'id': 'docX', 'text': '...', 'metadata': {...}}\")\n",
        "print(\"        ]\")\n",
        "print(\"\")\n",
        "print(\"        if new_data:\")\n",
        "print(\"            print(f'Found {len(new_data)} new documents. Starting ingestion.')\")\n",
        "print(\"            # Call the ingestion function with the new data\")\n",
        "print(\"            # ingest_and_embed(new_data)\")\n",
        "print(\"            print('Ingestion complete.')\")\n",
        "print(\"        else:\")\n",
        "print(\"            print('No new data found.')\")\n",
        "print(\"\")\n",
        "print(\"        print(f'Waiting {interval_seconds} seconds until next check...')\")\n",
        "print(\"        time.sleep(interval_seconds)\")\n",
        "print(\"\")\n",
        "print(\"# To run this simulation (would block notebook execution):\")\n",
        "print(\"# simulate_periodic_update(interval_seconds=10) # Check every 10 seconds for demo\")\n",
        "print(\"```\")\n",
        "\n",
        "# 4. Explanation of Simulated Loop Calling Ingestion:\n",
        "print(\"\\n4. How the Simulated Loop Calls Ingestion:\")\n",
        "print(\"Inside the `while True` loop, the simulation would:\")\n",
        "print(\"a. **Simulate Data Fetch:** Represent the process of checking a source (like a folder, API, or database) for new information since the last check.\")\n",
        "print(\"b. **Prepare New Data:** Collect any identified new documents into a list, similar to `new_information_feed` we created earlier.\")\n",
        "print(\"c. **Conditional Ingestion:** If the list of `new_data` is not empty, it calls the `ingest_and_embed(new_data)` function.\")\n",
        "print(\"d. **Ingest and Embed:** The `ingest_and_embed` function then processes these new documents: generates their embeddings using the loaded model and upserts them into the existing `collection` in ChromaDB.\")\n",
        "print(\"e. **Sleep:** The loop pauses using `time.sleep()` for the specified interval before checking again.\")\n",
        "print(\"\\nThis loop structure demonstrates the flow: check for new data -> if found, ingest -> wait -> repeat. In a real system, the 'check for new data' part would be more sophisticated, tracking what has already been processed.\")"
      ],
      "execution_count": 6,
      "outputs": [
        {
          "output_type": "stream",
          "name": "stdout",
          "text": [
            "1. Real-world Periodic Update Mechanisms:\n",
            "In a production environment, periodic updates to a knowledge base would typically be handled by automated scheduling systems.\n",
            "- **Cron Jobs (Linux/Unix):** Schedule scripts or commands to run at fixed times, dates, or intervals.\n",
            "- **Task Scheduler (Windows):** Similar to cron jobs, allows scheduling tasks to run automatically.\n",
            "- **Cloud Scheduler/Managed Services:** Cloud providers offer managed services (e.g., AWS CloudWatch Events/EventBridge, Google Cloud Scheduler, Azure Scheduler) that can trigger functions or tasks on a schedule.\n",
            "- **Orchestration Tools:** Tools like Apache Airflow, Luigi, or Dagster can manage complex workflows, including scheduled data ingestion pipelines.\n",
            "- **Message Queues/Event-Driven Systems:** New data arrivals can trigger ingestion processes via message queues (e.g., Kafka, RabbitMQ) or serverless functions (e.g., AWS Lambda, Google Cloud Functions) responding to events.\n",
            "\n",
            "These mechanisms ensure that the update process runs reliably and without manual intervention at defined intervals (e.g., daily, hourly, every few minutes).\n",
            "\n",
            "2. Limitations in Colab:\n",
            "Directly simulating a true periodic background process with persistent scheduling is not feasible within a standard Colab notebook session.\n",
            "- **Session Lifetime:** Colab sessions have limited lifetimes and are not designed for long-running background tasks.\n",
            "- **No Persistent Scheduler:** You cannot set up system-level cron jobs or persistent task schedules that continue after the notebook is closed or the session ends.\n",
            "- **Blocking Execution:** A simple Python loop to simulate periodicity within a single cell would block the notebook's execution and stop if the session times out or the user disconnects.\n",
            "\n",
            "Therefore, any simulation in Colab will be a simplified demonstration, requiring the cell to be actively running.\n",
            "\n",
            "3. Simple Python Loop Simulation Outline:\n",
            "We can simulate periodic updates using a basic Python loop combined with a time delay.\n",
            "```python\n",
            "# This is a conceptual outline, not runnable code in a single block for true backgrounding\n",
            "import time\n",
            "def simulate_periodic_update(interval_seconds=60):\n",
            "    while True:\n",
            "        print(f'Simulating update check at {time.ctime()}')\n",
            "        # In a real scenario, this would fetch NEW data\n",
            "        # For simulation, we might use a predefined list or load from a file\n",
            "        # Example: fetch_new_data_from_source()\n",
            "        new_data = [\n",
            "            # Simulate fetching new documents over time\n",
            "            # e.g., {'id': 'docX', 'text': '...', 'metadata': {...}}\n",
            "        ]\n",
            "\n",
            "        if new_data:\n",
            "            print(f'Found {len(new_data)} new documents. Starting ingestion.')\n",
            "            # Call the ingestion function with the new data\n",
            "            # ingest_and_embed(new_data)\n",
            "            print('Ingestion complete.')\n",
            "        else:\n",
            "            print('No new data found.')\n",
            "\n",
            "        print(f'Waiting {interval_seconds} seconds until next check...')\n",
            "        time.sleep(interval_seconds)\n",
            "\n",
            "# To run this simulation (would block notebook execution):\n",
            "# simulate_periodic_update(interval_seconds=10) # Check every 10 seconds for demo\n",
            "```\n",
            "\n",
            "4. How the Simulated Loop Calls Ingestion:\n",
            "Inside the `while True` loop, the simulation would:\n",
            "a. **Simulate Data Fetch:** Represent the process of checking a source (like a folder, API, or database) for new information since the last check.\n",
            "b. **Prepare New Data:** Collect any identified new documents into a list, similar to `new_information_feed` we created earlier.\n",
            "c. **Conditional Ingestion:** If the list of `new_data` is not empty, it calls the `ingest_and_embed(new_data)` function.\n",
            "d. **Ingest and Embed:** The `ingest_and_embed` function then processes these new documents: generates their embeddings using the loaded model and upserts them into the existing `collection` in ChromaDB.\n",
            "e. **Sleep:** The loop pauses using `time.sleep()` for the specified interval before checking again.\n",
            "\n",
            "This loop structure demonstrates the flow: check for new data -> if found, ingest -> wait -> repeat. In a real system, the 'check for new data' part would be more sophisticated, tracking what has already been processed.\n"
          ]
        }
      ]
    },
    {
      "cell_type": "code",
      "metadata": {
        "colab": {
          "base_uri": "https://localhost:8080/"
        },
        "id": "aee02441",
        "outputId": "ab280924-32f8-4747-caa6-5e4176298545"
      },
      "source": [
        "def query_knowledge_base(query_text: str, n_results: int = 3):\n",
        "    \"\"\"\n",
        "    Queries the ChromaDB knowledge base with a user query.\n",
        "\n",
        "    Args:\n",
        "        query_text: The user's query string.\n",
        "        n_results: The number of top relevant documents to retrieve.\n",
        "\n",
        "    Returns:\n",
        "        A list of dictionaries, where each dictionary represents a retrieved document\n",
        "        with keys 'id', 'text', and 'metadata'.\n",
        "    \"\"\"\n",
        "    # Generate embedding for the query\n",
        "    query_embedding = model.encode(query_text).tolist()\n",
        "\n",
        "    # Query the ChromaDB collection\n",
        "    results = collection.query(\n",
        "        query_embeddings=[query_embedding],\n",
        "        n_results=n_results,\n",
        "        include=['documents', 'metadatas'] # Specify what to include in results\n",
        "    )\n",
        "\n",
        "    # Extract and format the results\n",
        "    retrieved_documents = []\n",
        "    if results and results['ids']:\n",
        "        # The structure is results['ids'][0], results['documents'][0], results['metadatas'][0]\n",
        "        # because query_embeddings was a list with one embedding.\n",
        "        for i in range(len(results['ids'][0])):\n",
        "            doc_id = results['ids'][0][i]\n",
        "            doc_text = results['documents'][0][i]\n",
        "            doc_metadata = results['metadatas'][0][i]\n",
        "            retrieved_documents.append({\n",
        "                'id': doc_id,\n",
        "                'text': doc_text,\n",
        "                'metadata': doc_metadata\n",
        "            })\n",
        "\n",
        "    return retrieved_documents\n",
        "\n",
        "# Test the function with a sample query\n",
        "sample_query = \"How can AI learn?\"\n",
        "retrieved_docs = query_knowledge_base(sample_query)\n",
        "\n",
        "print(f\"\\nQuery: '{sample_query}'\")\n",
        "print(\"\\nRetrieved Documents:\")\n",
        "if retrieved_docs:\n",
        "    for doc in retrieved_docs:\n",
        "        print(f\"- ID: {doc['id']}, Source: {doc['metadata'].get('source', 'N/A')}\")\n",
        "        print(f\"  Text: {doc['text'][:150]}...\") # Print a snippet of the text\n",
        "else:\n",
        "    print(\"No documents found for this query.\")\n"
      ],
      "execution_count": 7,
      "outputs": [
        {
          "output_type": "stream",
          "name": "stdout",
          "text": [
            "\n",
            "Query: 'How can AI learn?'\n",
            "\n",
            "Retrieved Documents:\n",
            "- ID: doc1, Source: demo\n",
            "  Text: AI can learn continuously from new data sources....\n",
            "- ID: doc2, Source: demo\n",
            "  Text: Vector databases help chatbots recall information efficiently....\n",
            "- ID: doc4, Source: simulated_feed\n",
            "  Text: Retrieval-Augmented Generation combines LLMs with external knowledge....\n"
          ]
        }
      ]
    },
    {
      "cell_type": "code",
      "metadata": {
        "colab": {
          "base_uri": "https://localhost:8080/"
        },
        "id": "bf83d97b",
        "outputId": "6fe92df3-091e-45be-8c0a-7810a02f83b7"
      },
      "source": [
        "def simple_chatbot_response(user_query: str):\n",
        "    \"\"\"\n",
        "    Simulates a simple chatbot response using retrieved knowledge.\n",
        "\n",
        "    Args:\n",
        "        user_query: The user's query string.\n",
        "    \"\"\"\n",
        "    print(f\"\\nUser Query: '{user_query}'\")\n",
        "\n",
        "    # Retrieve relevant documents from the knowledge base\n",
        "    relevant_docs = query_knowledge_base(user_query, n_results=2) # Get top 2 results\n",
        "\n",
        "    # Construct a basic response\n",
        "    response = f\"Thank you for your question about '{user_query}'. \"\n",
        "\n",
        "    if relevant_docs:\n",
        "        response += \"Here is some information from my knowledge base:\\n\"\n",
        "        for i, doc in enumerate(relevant_docs):\n",
        "            response += f\"- According to document {i+1} (Source: {doc['metadata'].get('source', 'N/A')}):\\n\"\n",
        "            response += f\"  {doc['text']}\\n\"\n",
        "    else:\n",
        "        response += \"I couldn't find specific information related to that in my current knowledge base.\"\n",
        "\n",
        "    print(response)\n",
        "\n",
        "# Demonstrate the simple chatbot with sample queries\n",
        "simple_chatbot_response(\"Tell me about LLMs\")\n",
        "simple_chatbot_response(\"How do vector databases help chatbots?\")\n",
        "simple_chatbot_response(\"What is RAG?\")\n",
        "simple_chatbot_response(\"Tell me about apples\") # Query unrelated to the knowledge base"
      ],
      "execution_count": 8,
      "outputs": [
        {
          "output_type": "stream",
          "name": "stdout",
          "text": [
            "\n",
            "User Query: 'Tell me about LLMs'\n",
            "Thank you for your question about 'Tell me about LLMs'. Here is some information from my knowledge base:\n",
            "- According to document 1 (Source: simulated_feed):\n",
            "  Retrieval-Augmented Generation combines LLMs with external knowledge.\n",
            "- According to document 2 (Source: demo):\n",
            "  Vector databases help chatbots recall information efficiently.\n",
            "\n",
            "\n",
            "User Query: 'How do vector databases help chatbots?'\n",
            "Thank you for your question about 'How do vector databases help chatbots?'. Here is some information from my knowledge base:\n",
            "- According to document 1 (Source: demo):\n",
            "  Vector databases help chatbots recall information efficiently.\n",
            "- According to document 2 (Source: demo):\n",
            "  AI can learn continuously from new data sources.\n",
            "\n",
            "\n",
            "User Query: 'What is RAG?'\n",
            "Thank you for your question about 'What is RAG?'. Here is some information from my knowledge base:\n",
            "- According to document 1 (Source: simulated_feed):\n",
            "  Vector databases are essential for efficient RAG implementations.\n",
            "- According to document 2 (Source: simulated_feed):\n",
            "  Retrieval-Augmented Generation combines LLMs with external knowledge.\n",
            "\n",
            "\n",
            "User Query: 'Tell me about apples'\n",
            "Thank you for your question about 'Tell me about apples'. Here is some information from my knowledge base:\n",
            "- According to document 1 (Source: demo):\n",
            "  AI can learn continuously from new data sources.\n",
            "- According to document 2 (Source: demo):\n",
            "  Vector databases help chatbots recall information efficiently.\n",
            "\n"
          ]
        }
      ]
    },
    {
      "cell_type": "code",
      "metadata": {
        "colab": {
          "base_uri": "https://localhost:8080/"
        },
        "id": "dc8b2a6d",
        "outputId": "6c86bd35-c34a-4058-a0e3-03538607c548"
      },
      "source": [
        "results = collection.get(\n",
        "    include=['embeddings', 'documents', 'metadatas']\n",
        ")\n",
        "\n",
        "retrieved_embeddings = results['embeddings']\n",
        "retrieved_documents_text = results['documents']\n",
        "retrieved_metadatas = results['metadatas']\n",
        "\n",
        "print(f\"Successfully retrieved {len(retrieved_embeddings)} documents and their embeddings.\")"
      ],
      "execution_count": 9,
      "outputs": [
        {
          "output_type": "stream",
          "name": "stdout",
          "text": [
            "Successfully retrieved 5 documents and their embeddings.\n"
          ]
        }
      ]
    },
    {
      "cell_type": "code",
      "metadata": {
        "colab": {
          "base_uri": "https://localhost:8080/"
        },
        "id": "c09c4963",
        "outputId": "cf828f39-d7dc-42dc-9873-f499be6bdf80"
      },
      "source": [
        "from sklearn.manifold import TSNE\n",
        "\n",
        "# Instantiate TSNE with 2 components and adjusted parameters\n",
        "# perplexity must be less than the number of samples (which is 5)\n",
        "tsne = TSNE(n_components=2, random_state=42, perplexity=min(4, len(retrieved_embeddings) - 1), max_iter=300)\n",
        "\n",
        "# Apply t-SNE transformation\n",
        "tsne_embeddings_2d = tsne.fit_transform(retrieved_embeddings)\n",
        "\n",
        "print(f\"Original embeddings shape: {len(retrieved_embeddings)} embeddings with dimension {len(retrieved_embeddings[0])}\")\n",
        "print(f\"TSNE transformed embeddings shape: {tsne_embeddings_2d.shape}\")"
      ],
      "execution_count": 13,
      "outputs": [
        {
          "output_type": "stream",
          "name": "stdout",
          "text": [
            "Original embeddings shape: 5 embeddings with dimension 384\n",
            "TSNE transformed embeddings shape: (5, 2)\n"
          ]
        }
      ]
    },
    {
      "cell_type": "code",
      "metadata": {
        "colab": {
          "base_uri": "https://localhost:8080/"
        },
        "id": "ppOrMOhBdBxK",
        "outputId": "8a14edac-a19c-434c-aea1-ded002624cc7"
      },
      "source": [
        "from sklearn.manifold import TSNE\n",
        "\n",
        "# Instantiate TSNE with 2 components and adjusted parameters\n",
        "# perplexity must be less than the number of samples (which is 5)\n",
        "tsne = TSNE(n_components=2, random_state=42, perplexity=min(4, len(retrieved_embeddings) - 1), max_iter=300)\n",
        "\n",
        "# Apply t-SNE transformation\n",
        "tsne_embeddings_2d = tsne.fit_transform(retrieved_embeddings)\n",
        "\n",
        "print(f\"Original embeddings shape: {len(retrieved_embeddings)} embeddings with dimension {len(retrieved_embeddings[0])}\")\n",
        "print(f\"TSNE transformed embeddings shape: {tsne_embeddings_2d.shape}\")"
      ],
      "execution_count": 11,
      "outputs": [
        {
          "output_type": "stream",
          "name": "stdout",
          "text": [
            "Original embeddings shape: 5 embeddings with dimension 384\n",
            "TSNE transformed embeddings shape: (5, 2)\n"
          ]
        }
      ]
    },
    {
      "cell_type": "code",
      "metadata": {
        "colab": {
          "base_uri": "https://localhost:8080/",
          "height": 718
        },
        "id": "895ddd4a",
        "outputId": "ca51e348-6224-4251-a48f-47953bf6c01b"
      },
      "source": [
        "import matplotlib.pyplot as plt\n",
        "import pandas as pd\n",
        "\n",
        "# Create a DataFrame\n",
        "df_tsne = pd.DataFrame(tsne_embeddings_2d, columns=['TSNE-1', 'TSNE-2'])\n",
        "\n",
        "# Add the source metadata\n",
        "df_tsne['source'] = [meta.get('source', 'Unknown') for meta in retrieved_metadatas]\n",
        "\n",
        "# Create the scatter plot\n",
        "plt.figure(figsize=(10, 8))\n",
        "for source in df_tsne['source'].unique():\n",
        "    subset = df_tsne[df_tsne['source'] == source]\n",
        "    plt.scatter(subset['TSNE-1'], subset['TSNE-2'], label=source)\n",
        "\n",
        "plt.title(\"2D t-SNE Visualization of Document Embeddings by Source\")\n",
        "plt.xlabel(\"TSNE-1\")\n",
        "plt.ylabel(\"TSNE-2\")\n",
        "plt.legend()\n",
        "plt.grid(True)\n",
        "plt.show()"
      ],
      "execution_count": 12,
      "outputs": [
        {
          "output_type": "display_data",
          "data": {
            "text/plain": [
              "<Figure size 1000x800 with 1 Axes>"
            ],
            "image/png": "[encoded data removed]"
          },
          "metadata": {}
        }
      ]
    }
  ]
}